{
 "cells": [
  {
   "cell_type": "code",
   "execution_count": 98,
   "metadata": {
    "collapsed": true
   },
   "outputs": [],
   "source": [
    "# from nytimesarticle import articleAPI\n",
    "# apikey = articleAPI('21362cb6b8374b08870bee9d1f73df92')\n",
    "import requests\n",
    "from datetime import datetime\n",
    "from time import sleep\n",
    "import lxml.html as html\n",
    "import json"
   ]
  },
  {
   "cell_type": "code",
   "execution_count": 76,
   "metadata": {
    "collapsed": true
   },
   "outputs": [],
   "source": [
    "# articles = apikey.search( q = 'Russia',begin_date = 20180327 )\n",
    "topic = \"fake+news\"\n",
    "apikey = \"527c18ffc4e648cb936f582a0e264ff1\"\n",
    "# begin_date = \"20180327\"\n",
    "# end_date = \"20180328\"\n",
    "# fl = \"snippet,web_url,headline\"\n",
    "fl = \"snippet,web_url\"\n",
    "pageNo = \"0\"\n",
    "dateRange = [\"20180321\", \"20180322\", \"20180323\", \"20180324\", \"20180325\", \"20180326\", \"20180327\", \"20180328\"]\n",
    "# requestArticles = requests.get(\"http://api.nytimes.com/svc/search/v2/articlesearch.json?q=\"+topic+\"&begin_date=20180327&end_date=\"+end_date+\"&fl=\"+fl+\"&page=\"+pageNo+\"&api-key=\"+apikey)\n",
    "# data = requestArticles.json()\n",
    "# print(len(data[\"response\"][\"docs\"]))\n",
    "# data[\"response\"][\"docs\"]\n",
    "# articles['response']"
   ]
  },
  {
   "cell_type": "code",
   "execution_count": 34,
   "metadata": {
    "collapsed": true
   },
   "outputs": [],
   "source": [
    "def parse_articles(articles):\n",
    "    '''\n",
    "    This function takes in a response to the NYT api and parses\n",
    "    the articles into a list of dictionaries\n",
    "    '''\n",
    "    news = []\n",
    "    fetch = articles['response']['docs']\n",
    "    for i in range(0,len(fetch)):\n",
    "        dic = {}\n",
    "#         print(fetch[i])\n",
    "        dic['web_url'] = fetch[i]['web_url']\n",
    "        if fetch[i]['snippet'] is not None:\n",
    "            dic['snippet'] = fetch[i]['snippet']\n",
    "#         dic['url'] = i['web_url']\n",
    "        news.append(dic)\n",
    "    return(news)"
   ]
  },
  {
   "cell_type": "code",
   "execution_count": 139,
   "metadata": {
    "collapsed": true
   },
   "outputs": [],
   "source": [
    "def get_articles(topic, begin_date, end_date, fl, apikey):\n",
    "    all_articles = []#stores all article for a particular day\n",
    "    page = 0\n",
    "    while(page<100):\n",
    "        sleep(1)\n",
    "#     for page in range(0,100): #NYT limits pages to first 100 pages starting page 0, each page has 10 articles max\n",
    "        try:\n",
    "            \n",
    "            url = \"http://api.nytimes.com/svc/search/v2/articlesearch.json?q=\"+topic+\"&begin_date=\"+begin_date+\"&end_date=\"+end_date+\"&fl=\"+fl+\"&page=\"+str(page)+\"&api-key=\"+apikey\n",
    "            print(url)\n",
    "            requestArticles = requests.get(url)\n",
    "            data = requestArticles.json()\n",
    "            if len(data[\"response\"][\"docs\"])>0:\n",
    "                all_articles.append(parse_articles(data))\n",
    "#                 print(data)\n",
    "            else:\n",
    "                print(parse_articles(data))\n",
    "                break\n",
    "        except:\n",
    "            print(\"You called the api way to fast, Dude, trying again\")\n",
    "            print(data)\n",
    "#             page = page - 1\n",
    "            sleep(1)\n",
    "            continue#try again\n",
    "        print(\"Page: \"+str(page))\n",
    "#         break\n",
    "        page=page+1\n",
    "    return(all_articles)"
   ]
  },
  {
   "cell_type": "code",
   "execution_count": 151,
   "metadata": {
    "scrolled": true
   },
   "outputs": [
    {
     "name": "stdout",
     "output_type": "stream",
     "text": [
      "Fetching articles for Data period: 03-21-2018 - 03-22-2018\n",
      "http://api.nytimes.com/svc/search/v2/articlesearch.json?q=fake+news&begin_date=20180321&end_date=20180322&fl=snippet,web_url&page=0&api-key=527c18ffc4e648cb936f582a0e264ff1\n",
      "Page: 0\n",
      "http://api.nytimes.com/svc/search/v2/articlesearch.json?q=fake+news&begin_date=20180321&end_date=20180322&fl=snippet,web_url&page=1&api-key=527c18ffc4e648cb936f582a0e264ff1\n",
      "Page: 1\n",
      "http://api.nytimes.com/svc/search/v2/articlesearch.json?q=fake+news&begin_date=20180321&end_date=20180322&fl=snippet,web_url&page=2&api-key=527c18ffc4e648cb936f582a0e264ff1\n",
      "[]\n",
      "Fetching articles for Data period: 03-22-2018 - 03-23-2018\n",
      "http://api.nytimes.com/svc/search/v2/articlesearch.json?q=fake+news&begin_date=20180322&end_date=20180323&fl=snippet,web_url&page=0&api-key=527c18ffc4e648cb936f582a0e264ff1\n",
      "Page: 0\n",
      "http://api.nytimes.com/svc/search/v2/articlesearch.json?q=fake+news&begin_date=20180322&end_date=20180323&fl=snippet,web_url&page=1&api-key=527c18ffc4e648cb936f582a0e264ff1\n",
      "Page: 1\n",
      "http://api.nytimes.com/svc/search/v2/articlesearch.json?q=fake+news&begin_date=20180322&end_date=20180323&fl=snippet,web_url&page=2&api-key=527c18ffc4e648cb936f582a0e264ff1\n",
      "[]\n",
      "Fetching articles for Data period: 03-23-2018 - 03-24-2018\n",
      "http://api.nytimes.com/svc/search/v2/articlesearch.json?q=fake+news&begin_date=20180323&end_date=20180324&fl=snippet,web_url&page=0&api-key=527c18ffc4e648cb936f582a0e264ff1\n",
      "Page: 0\n",
      "http://api.nytimes.com/svc/search/v2/articlesearch.json?q=fake+news&begin_date=20180323&end_date=20180324&fl=snippet,web_url&page=1&api-key=527c18ffc4e648cb936f582a0e264ff1\n",
      "[]\n",
      "Fetching articles for Data period: 03-24-2018 - 03-25-2018\n",
      "http://api.nytimes.com/svc/search/v2/articlesearch.json?q=fake+news&begin_date=20180324&end_date=20180325&fl=snippet,web_url&page=0&api-key=527c18ffc4e648cb936f582a0e264ff1\n",
      "Page: 0\n",
      "http://api.nytimes.com/svc/search/v2/articlesearch.json?q=fake+news&begin_date=20180324&end_date=20180325&fl=snippet,web_url&page=1&api-key=527c18ffc4e648cb936f582a0e264ff1\n",
      "[]\n",
      "Fetching articles for Data period: 03-25-2018 - 03-26-2018\n",
      "http://api.nytimes.com/svc/search/v2/articlesearch.json?q=fake+news&begin_date=20180325&end_date=20180326&fl=snippet,web_url&page=0&api-key=527c18ffc4e648cb936f582a0e264ff1\n",
      "Page: 0\n",
      "http://api.nytimes.com/svc/search/v2/articlesearch.json?q=fake+news&begin_date=20180325&end_date=20180326&fl=snippet,web_url&page=1&api-key=527c18ffc4e648cb936f582a0e264ff1\n",
      "[]\n",
      "Fetching articles for Data period: 03-26-2018 - 03-27-2018\n",
      "http://api.nytimes.com/svc/search/v2/articlesearch.json?q=fake+news&begin_date=20180326&end_date=20180327&fl=snippet,web_url&page=0&api-key=527c18ffc4e648cb936f582a0e264ff1\n",
      "Page: 0\n",
      "http://api.nytimes.com/svc/search/v2/articlesearch.json?q=fake+news&begin_date=20180326&end_date=20180327&fl=snippet,web_url&page=1&api-key=527c18ffc4e648cb936f582a0e264ff1\n",
      "Page: 1\n",
      "http://api.nytimes.com/svc/search/v2/articlesearch.json?q=fake+news&begin_date=20180326&end_date=20180327&fl=snippet,web_url&page=2&api-key=527c18ffc4e648cb936f582a0e264ff1\n",
      "Page: 2\n",
      "http://api.nytimes.com/svc/search/v2/articlesearch.json?q=fake+news&begin_date=20180326&end_date=20180327&fl=snippet,web_url&page=3&api-key=527c18ffc4e648cb936f582a0e264ff1\n",
      "[]\n",
      "Fetching articles for Data period: 03-27-2018 - 03-28-2018\n",
      "http://api.nytimes.com/svc/search/v2/articlesearch.json?q=fake+news&begin_date=20180327&end_date=20180328&fl=snippet,web_url&page=0&api-key=527c18ffc4e648cb936f582a0e264ff1\n",
      "Page: 0\n",
      "http://api.nytimes.com/svc/search/v2/articlesearch.json?q=fake+news&begin_date=20180327&end_date=20180328&fl=snippet,web_url&page=1&api-key=527c18ffc4e648cb936f582a0e264ff1\n",
      "[]\n"
     ]
    }
   ],
   "source": [
    "processArticles = []\n",
    "for i in range(0,7):\n",
    "    datetimeobject = datetime.strptime(dateRange[i],'%Y%m%d')\n",
    "    beginDate = datetimeobject.strftime('%m-%d-%Y')\n",
    "    datetimeobject = datetime.strptime(dateRange[i+1],'%Y%m%d')\n",
    "    endDate = datetimeobject.strftime('%m-%d-%Y')\n",
    "    print(\"Fetching articles for Data period: \" + beginDate + \" - \"+ endDate)\n",
    "    processArticles = get_articles(topic, dateRange[i], dateRange[i+1],fl, apikey)\n",
    "    if(len(processArticles)>0):\n",
    "#         try:\n",
    "#             dataToWrite = processArticles\n",
    "# #             print(dataToWrite)\n",
    "#         except:\n",
    "#             print(len(processArticles))\n",
    "#             print(processArticles)\n",
    "#             print(processArticles[0])\n",
    "#             break\n",
    "        with open(\"textcorpus/\"+topic+dateRange[i]+\".txt\", 'w') as outfile:\n",
    "            for item in processArticles:\n",
    "                for articles in item:\n",
    "#                     print(articles)\n",
    "                    outfile.write(articles[\"snippet\"])\n",
    "                    outfile.write(\"\\n\")\n",
    "        with open(\"textcorpus/\"+topic+dateRange[i]+\"-full.txt\", 'w') as outfile:\n",
    "            for item in processArticles:\n",
    "                for articles in item:\n",
    "                    fullpage = requests.get(articles[\"web_url\"])\n",
    "                    htmlbody = html.fromstring(requests.get(articles[\"web_url\"]).content)\n",
    "                    output = \"\".join(htmlbody.xpath('//p[contains(@class,\"story-body-text\")]//text()'))#scrapper\n",
    "#                     print(output+\"\\n\\n\")\n",
    "#                     output = output.decode('utf8').encode('latin1').decode('utf8')\n",
    "                    output = str(output.encode(\"ascii\", \"ignore\"))\n",
    "                    outfile.write(output[2:-1])\n",
    "                    outfile.write(\"\\n\")\n",
    "    else:\n",
    "        print(\"Insufficient data for date: \"+beginDate+\" to save\")\n",
    "#     break\n",
    "# print(processArticles[0][0:-1])"
   ]
  },
  {
   "cell_type": "code",
   "execution_count": 137,
   "metadata": {},
   "outputs": [],
   "source": [
    "# page = requests.get(\"https://www.nytimes.com/aponline/2018/03/21/us/ap-us-facebook-freakout-sewer-snakes.html\")\n",
    "# tree = html.fromstring(page.content)\n",
    "# # output = tree.xpath('//div[contains(@class,\"story-body\")]/div[2]/div/p/text()')\n",
    "# output = \"\".join(tree.xpath('//p[contains(@class,\"story-body-text\")]//text()'))\n",
    "# # output\n",
    "# print(output.encode('latin1'))\n",
    "# # output.decode('utf8')\n"
   ]
  },
  {
   "cell_type": "code",
   "execution_count": 17,
   "metadata": {
    "collapsed": true
   },
   "outputs": [],
   "source": [
    "# /usr/local/hadoop/bin/hadoop jar /usr/local/hadoop/share/hadoop/tools/lib/hadoop-streaming-2.8.3.jar -input /user/jayant/input/ -output /user/jayant/output_new2 -mapper /home/jayant/wordcount_mapper.py -reducer /home/jayant/wordcount_reducer.py -numReduceTasks 1"
   ]
  },
  {
   "cell_type": "code",
   "execution_count": null,
   "metadata": {},
   "outputs": [],
   "source": []
  }
 ],
 "metadata": {
  "kernelspec": {
   "display_name": "Python 3",
   "language": "python",
   "name": "python3"
  },
  "language_info": {
   "codemirror_mode": {
    "name": "ipython",
    "version": 3
   },
   "file_extension": ".py",
   "mimetype": "text/x-python",
   "name": "python",
   "nbconvert_exporter": "python",
   "pygments_lexer": "ipython3",
   "version": "3.6.3"
  }
 },
 "nbformat": 4,
 "nbformat_minor": 2
}
