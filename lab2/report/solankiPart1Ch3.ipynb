{
 "cells": [
  {
   "cell_type": "markdown",
   "metadata": {},
   "source": [
    "<span style=\"color:red;font-weight:bold\">Jayant Solanki</span>\n",
    "<span style=\"color:red;font-weight:bold\">Anant Gupta</span>\n",
    "<br/>\n",
    "<hr/>\n",
    "### <span style=\"float:right\">Python Code Expositions</span>\n",
    "<hr/>"
   ]
  },
  {
   "cell_type": "code",
   "execution_count": 2,
   "metadata": {},
   "outputs": [
    {
     "name": "stdout",
     "output_type": "stream",
     "text": [
      "hello world!\n"
     ]
    }
   ],
   "source": [
    "#3.3.1 Hello World Script\n",
    "print(\"hello world!\")"
   ]
  },
  {
   "cell_type": "code",
   "execution_count": 9,
   "metadata": {},
   "outputs": [
    {
     "name": "stdout",
     "output_type": "stream",
     "text": [
      "Susan now lives in Washington\n",
      "and makes $105000.0\n",
      "Ellen now lives in Texas\n",
      "and makes $78750.0\n"
     ]
    }
   ],
   "source": [
    "#3.3.2 More complicated scripts\n",
    "SALARY_RAISE_FACTOR = 0.05\n",
    "STATE_CODE_MAP = {'WA': 'Washington', 'TX': 'Texas'}\n",
    "\n",
    "def update_employee_record(rec):\n",
    "    old_sal = rec['salary']\n",
    "    new_sal = old_sal * (1 + SALARY_RAISE_FACTOR)\n",
    "    rec['salary'] = new_sal\n",
    "    state_code = rec['state_code']\n",
    "    rec['state_name'] = STATE_CODE_MAP[state_code]\n",
    "input_data = [\n",
    "    {'employee_name': 'Susan', 'salary': 100000.0,\n",
    "    'state_code': 'WA'},\n",
    "    {'employee_name': 'Ellen', 'salary': 75000.0,\n",
    "    'state_code': 'TX'},\n",
    "]\n",
    "for rec in input_data:\n",
    "    update_employee_record(rec)\n",
    "    name = rec['employee_name']\n",
    "    salary = rec['salary']\n",
    "    state = rec['state_name']\n",
    "    print (name + ' now lives in ' + state)\n",
    "    print ('and makes $' + str(salary))"
   ]
  },
  {
   "cell_type": "code",
   "execution_count": 11,
   "metadata": {
    "collapsed": true
   },
   "outputs": [],
   "source": [
    "#3.3.4 Atomic Data Types\n",
    "my_integer = 2\n",
    "my_other_integer = 2 + 3\n",
    "my_float = 2.0\n",
    "#boolean values\n",
    "my_true_bool = True\n",
    "my_false_bool = False\n",
    "this_is_true = (0 < 100)\n",
    "this_is_false = (0 > 100)"
   ]
  },
  {
   "cell_type": "code",
   "execution_count": 6,
   "metadata": {},
   "outputs": [
    {
     "data": {
      "text/plain": [
       "'A'"
      ]
     },
     "execution_count": 6,
     "metadata": {},
     "output_type": "execute_result"
    }
   ],
   "source": [
    "#3.4 Strings\n",
    "a_string = \"hello\"\n",
    "same_as_previous = 'hello'\n",
    "an_empty_string = \"\"\n",
    "w_a_single_quote = \"hello's\"\n",
    "multi_line_string = \"\"\"line 1\n",
    "line 2\"\"\"\n",
    "\"ABCD\"[0]\n"
   ]
  },
  {
   "cell_type": "code",
   "execution_count": 7,
   "metadata": {},
   "outputs": [
    {
     "data": {
      "text/plain": [
       "'AB'"
      ]
     },
     "execution_count": 7,
     "metadata": {},
     "output_type": "execute_result"
    }
   ],
   "source": [
    "\"ABCD\"[0:2]\n"
   ]
  },
  {
   "cell_type": "code",
   "execution_count": 8,
   "metadata": {},
   "outputs": [
    {
     "data": {
      "text/plain": [
       "'BC'"
      ]
     },
     "execution_count": 8,
     "metadata": {},
     "output_type": "execute_result"
    }
   ],
   "source": [
    "\"ABCD\"[1:3]"
   ]
  },
  {
   "cell_type": "code",
   "execution_count": 9,
   "metadata": {},
   "outputs": [
    {
     "data": {
      "text/plain": [
       "'BCD'"
      ]
     },
     "execution_count": 9,
     "metadata": {},
     "output_type": "execute_result"
    }
   ],
   "source": [
    "\"ABCD\"[1:]"
   ]
  },
  {
   "cell_type": "code",
   "execution_count": 10,
   "metadata": {},
   "outputs": [
    {
     "data": {
      "text/plain": [
       "'ABC'"
      ]
     },
     "execution_count": 10,
     "metadata": {},
     "output_type": "execute_result"
    }
   ],
   "source": [
    "\"ABCD\"[:-1]"
   ]
  },
  {
   "cell_type": "code",
   "execution_count": 14,
   "metadata": {
    "collapsed": true
   },
   "outputs": [],
   "source": [
    "# 3.4.1 Comments and Docstrings\n",
    "# This whole line is a comment\n",
    "a = 5 # and the last part of this line is too\n",
    "def sqr(x):\n",
    "    \"This function just squares its input \"\n",
    "    return x * x"
   ]
  },
  {
   "cell_type": "code",
   "execution_count": 26,
   "metadata": {},
   "outputs": [
    {
     "name": "stdout",
     "output_type": "stream",
     "text": [
      "a \n"
     ]
    }
   ],
   "source": [
    "# 3.4.2 Complex Data Types\n",
    "my_list = [\"a \", \"b \", \"c \"]\n",
    "my_set = set(my_list)\n",
    "my_tuple = tuple(my_list)\n",
    "# 3.4.3 Lists\n",
    "my_list = [\"a \", \"b \", \"c \"]\n",
    "print (my_list[0]) # prints \"a \"\n",
    "my_list[0] = \"A \" # changes that element of the list\n",
    "my_list.append(\"d \") # adds new element to the end\n",
    "# List elements can be ANYTHING\n",
    "mixed_list = [\"A \", 5.7, \"B \", [1,2,3]]\n",
    "\n",
    "original_list = [1,2,3,4,5,6,7,8]\n",
    "squares = [x*x for x in original_list]\n",
    "squares_of_evens = [x*x for x in original_list if x%2==0]## bug in the original program\n",
    "my_list = [\"a\", \"b\", \"c\"]\n",
    "first_two_elements = my_list[0:3]\n",
    "my_list = [\"a\", \"b\", \"c\"]\n",
    "first_two_elements = my_list[:3]\n",
    "last_two_elements = my_list[1:]\n",
    "my_list = [\"a\", \"b\", \"c\"]\n",
    "all_but_last_element = my_list[:-1]"
   ]
  },
  {
   "cell_type": "code",
   "execution_count": 29,
   "metadata": {},
   "outputs": [
    {
     "data": {
      "text/plain": [
       "['ABC', 'DEF']"
      ]
     },
     "execution_count": 29,
     "metadata": {},
     "output_type": "execute_result"
    }
   ],
   "source": [
    "# 3.4.4 Strings and Lists\n",
    "\"ABC DEF\".split()\n"
   ]
  },
  {
   "cell_type": "code",
   "execution_count": 33,
   "metadata": {},
   "outputs": [
    {
     "data": {
      "text/plain": [
       "['ABC', 'DEF']"
      ]
     },
     "execution_count": 33,
     "metadata": {},
     "output_type": "execute_result"
    }
   ],
   "source": [
    "\"ABC \\tDEF\".split() # different output from the book\n"
   ]
  },
  {
   "cell_type": "code",
   "execution_count": 34,
   "metadata": {},
   "outputs": [
    {
     "data": {
      "text/plain": [
       "['ABC', '\\tDEF']"
      ]
     },
     "execution_count": 34,
     "metadata": {},
     "output_type": "execute_result"
    }
   ],
   "source": [
    "\"ABC \\tDEF\".split(' ') # different output from the book"
   ]
  },
  {
   "cell_type": "code",
   "execution_count": 32,
   "metadata": {},
   "outputs": [
    {
     "data": {
      "text/plain": [
       "['', 'C', 'D']"
      ]
     },
     "execution_count": 32,
     "metadata": {},
     "output_type": "execute_result"
    }
   ],
   "source": [
    "\"ABCABD\".split(\"AB\")"
   ]
  },
  {
   "cell_type": "code",
   "execution_count": 35,
   "metadata": {},
   "outputs": [
    {
     "data": {
      "text/plain": [
       "'A,B,C'"
      ]
     },
     "execution_count": 35,
     "metadata": {},
     "output_type": "execute_result"
    }
   ],
   "source": [
    "\",\".join([\"A\", \"B\", \"C\"])"
   ]
  },
  {
   "cell_type": "code",
   "execution_count": 36,
   "metadata": {},
   "outputs": [
    {
     "data": {
      "text/plain": [
       "'BDF'"
      ]
     },
     "execution_count": 36,
     "metadata": {},
     "output_type": "execute_result"
    }
   ],
   "source": [
    "start, end, count_by = 1, 7, 2\n",
    "\"ABCDEFG\"[start: end: count_by]"
   ]
  },
  {
   "cell_type": "code",
   "execution_count": 37,
   "metadata": {
    "collapsed": true
   },
   "outputs": [],
   "source": [
    "# 3.4.5 Tuples"
   ]
  },
  {
   "cell_type": "code",
   "execution_count": 39,
   "metadata": {},
   "outputs": [
    {
     "name": "stdout",
     "output_type": "stream",
     "text": [
      "1\n"
     ]
    },
    {
     "ename": "TypeError",
     "evalue": "'tuple' object does not support item assignment",
     "output_type": "error",
     "traceback": [
      "\u001b[0;31m---------------------------------------------------------------------------\u001b[0m",
      "\u001b[0;31mTypeError\u001b[0m                                 Traceback (most recent call last)",
      "\u001b[0;32m<ipython-input-39-5714488f1916>\u001b[0m in \u001b[0;36m<module>\u001b[0;34m()\u001b[0m\n\u001b[1;32m      1\u001b[0m \u001b[0mmy_tuple\u001b[0m \u001b[0;34m=\u001b[0m \u001b[0;34m(\u001b[0m\u001b[0;36m1\u001b[0m\u001b[0;34m,\u001b[0m \u001b[0;36m2\u001b[0m\u001b[0;34m,\u001b[0m \u001b[0;34m\"hello world\"\u001b[0m\u001b[0;34m)\u001b[0m\u001b[0;34m\u001b[0m\u001b[0m\n\u001b[1;32m      2\u001b[0m \u001b[0mprint\u001b[0m \u001b[0;34m(\u001b[0m\u001b[0mmy_tuple\u001b[0m\u001b[0;34m[\u001b[0m\u001b[0;36m0\u001b[0m\u001b[0;34m]\u001b[0m\u001b[0;34m)\u001b[0m \u001b[0;31m# prints 1\u001b[0m\u001b[0;34m\u001b[0m\u001b[0m\n\u001b[0;32m----> 3\u001b[0;31m \u001b[0mmy_tuple\u001b[0m\u001b[0;34m[\u001b[0m\u001b[0;36m1\u001b[0m\u001b[0;34m]\u001b[0m \u001b[0;34m=\u001b[0m \u001b[0;36m5\u001b[0m \u001b[0;31m# This will give an error!\u001b[0m\u001b[0;34m\u001b[0m\u001b[0m\n\u001b[0m",
      "\u001b[0;31mTypeError\u001b[0m: 'tuple' object does not support item assignment"
     ]
    }
   ],
   "source": [
    "my_tuple = (1, 2, \"hello world\")\n",
    "print (my_tuple[0]) # prints 1\n",
    "my_tuple[1] = 5 # This will give an error!"
   ]
  },
  {
   "cell_type": "code",
   "execution_count": 40,
   "metadata": {
    "collapsed": true
   },
   "outputs": [],
   "source": [
    "my_tuple = (1, 2)\n",
    "zeroth_field, first_field = my_tuple"
   ]
  },
  {
   "cell_type": "code",
   "execution_count": 47,
   "metadata": {},
   "outputs": [
    {
     "name": "stdout",
     "output_type": "stream",
     "text": [
      "1\n"
     ]
    }
   ],
   "source": [
    "# 3.4.6 Dictionaries\n",
    "my_dict = {\"January\": 1, \"February\":2}\n",
    "print (my_dict[\"January\"]) # prints 1\n",
    "my_dict[\"March\"] = 3 # add new element\n",
    "my_dict[\"January\"] = \"Start of the year\" # overwrite old value"
   ]
  },
  {
   "cell_type": "code",
   "execution_count": 48,
   "metadata": {
    "collapsed": true
   },
   "outputs": [],
   "source": [
    "pairs = [(\"one\",1), (\"two\",2)]\n",
    "as_dict = dict(pairs)\n",
    "same_as_pairs = as_dict.items()"
   ]
  },
  {
   "cell_type": "code",
   "execution_count": 50,
   "metadata": {},
   "outputs": [
    {
     "data": {
      "text/plain": [
       "False"
      ]
     },
     "execution_count": 50,
     "metadata": {},
     "output_type": "execute_result"
    }
   ],
   "source": [
    "# 3.4.7 Sets\n",
    "s = set()\n",
    "5 in s\n"
   ]
  },
  {
   "cell_type": "code",
   "execution_count": 52,
   "metadata": {},
   "outputs": [
    {
     "data": {
      "text/plain": [
       "True"
      ]
     },
     "execution_count": 52,
     "metadata": {},
     "output_type": "execute_result"
    }
   ],
   "source": [
    "s.add(5)\n",
    "5 in s\n"
   ]
  },
  {
   "cell_type": "code",
   "execution_count": 53,
   "metadata": {
    "collapsed": true
   },
   "outputs": [],
   "source": [
    "s.add(5) # does nothing"
   ]
  },
  {
   "cell_type": "code",
   "execution_count": 55,
   "metadata": {},
   "outputs": [
    {
     "name": "stdout",
     "output_type": "stream",
     "text": [
      "25\n"
     ]
    }
   ],
   "source": [
    "# 3.5 Defining Functions\n",
    "def my_function(x):\n",
    "    y = x+1\n",
    "    x_sqrd = x*x\n",
    "    return x_sqrd\n",
    "five_plus_one_sqrd = my_function(5)\n",
    "print(five_plus_one_sqrd)"
   ]
  },
  {
   "cell_type": "code",
   "execution_count": 61,
   "metadata": {},
   "outputs": [
    {
     "name": "stdout",
     "output_type": "stream",
     "text": [
      "4\n",
      "8\n",
      "25\n"
     ]
    }
   ],
   "source": [
    "def raisee(x, n=2):# bug, raise keyword cant be used in python3\n",
    "    return pow(x,n)\n",
    "two_sqrd = raisee(2)\n",
    "print(two_sqrd)\n",
    "two_cubed = raisee(2, n=3)\n",
    "print(two_cubed)\n",
    "sqr = lambda x : x*x\n",
    "five_sqrd = sqr(5)\n",
    "print(five_sqrd)"
   ]
  },
  {
   "cell_type": "code",
   "execution_count": 62,
   "metadata": {},
   "outputs": [
    {
     "name": "stdout",
     "output_type": "stream",
     "text": [
      "[4, 16]\n"
     ]
    }
   ],
   "source": [
    "def apply_to_evens(a_list, a_func):\n",
    "    return [a_func(x) for x in a_list if x%2==0]\n",
    "my_list = [1,2,3,4,5]\n",
    "sqrs_of_evens = apply_to_evens(my_list, lambda x:x*x)\n",
    "print(sqrs_of_evens)"
   ]
  },
  {
   "cell_type": "code",
   "execution_count": 66,
   "metadata": {},
   "outputs": [
    {
     "name": "stdout",
     "output_type": "stream",
     "text": [
      "the number is  1\n",
      "the number is  2\n",
      "the number is  3\n",
      "the value for  January  is  Start of the year\n",
      "the value for  February  is  2\n",
      "the value for  March  is  3\n"
     ]
    }
   ],
   "source": [
    "# 3.5.1 For Loops and Control Structures\n",
    "my_list = [1, 2, 3]\n",
    "for x in my_list:\n",
    "    print (\"the number is \", x)\n",
    "for key, value in my_dict.items():\n",
    "    print (\"the value for \", key, \" is \", value)"
   ]
  },
  {
   "cell_type": "code",
   "execution_count": 72,
   "metadata": {},
   "outputs": [
    {
     "name": "stdout",
     "output_type": "stream",
     "text": [
      "i is less than three\n"
     ]
    }
   ],
   "source": [
    "i = 0# not declared in the book\n",
    "if i < 3:\n",
    "    print (\"i is less than three\")\n",
    "elif i < 5: print (\"i is between 3 and 5\")\n",
    "else: print (\"i is greater than 5\")"
   ]
  },
  {
   "cell_type": "code",
   "execution_count": 73,
   "metadata": {},
   "outputs": [
    {
     "name": "stdout",
     "output_type": "stream",
     "text": [
      "i is still less than five\n",
      "i is still less than five\n",
      "i is still less than five\n",
      "i is still less than five\n",
      "i is still less than five\n"
     ]
    }
   ],
   "source": [
    "# while loop\n",
    "i = 0\n",
    "while i < 5:\n",
    "    print (\"i is still less than five\")\n",
    "    i = i+1"
   ]
  },
  {
   "cell_type": "code",
   "execution_count": 77,
   "metadata": {},
   "outputs": [
    {
     "name": "stdout",
     "output_type": "stream",
     "text": [
      "There were < 10 lines\n"
     ]
    }
   ],
   "source": [
    "# 3.5.3 Exception Handling\n",
    "try:\n",
    "    lines = input_text.split(\"\\n\")\n",
    "    print (\"tenth line was: \", lines[9])\n",
    "except:\n",
    "    print (\"There were < 10 lines\")"
   ]
  },
  {
   "cell_type": "code",
   "execution_count": 80,
   "metadata": {},
   "outputs": [
    {
     "name": "stdout",
     "output_type": "stream",
     "text": [
      "bark bark!!\n"
     ]
    }
   ],
   "source": [
    "# 3.5.5 Classes and Objects\n",
    "class Dog:\n",
    "    def __init__(self, name):\n",
    "        self.name = name\n",
    "    def respond_to_command(self, command):\n",
    "          if command == self.name: self.speak()\n",
    "    def speak(self):\n",
    "          print (\"bark bark!!\")\n",
    "fido = Dog(\"fido\")\n",
    "fido.respond_to_command(\"spot\") # does nothing\n",
    "fido.respond_to_command(\"fido\") # prints bark bark"
   ]
  },
  {
   "cell_type": "code",
   "execution_count": 83,
   "metadata": {},
   "outputs": [
    {
     "name": "stdout",
     "output_type": "stream",
     "text": [
      "5\n"
     ]
    }
   ],
   "source": [
    "# 3.5.6 GOTCHA: Hashable and Unhashable Types\n",
    "a = 5# a is a hashable int\n",
    "b = a# b points to a COPY of a\n",
    "a = a + 1\n",
    "print (b) # b has NOT been incremented\n",
    "A = [] # A is an UNhashable list\n",
    "B = A\n",
    "# B points to the SAME list as A.\n",
    "A.append(5)\n"
   ]
  },
  {
   "cell_type": "code",
   "execution_count": 84,
   "metadata": {},
   "outputs": [
    {
     "data": {
      "text/plain": [
       "'bob'"
      ]
     },
     "execution_count": 84,
     "metadata": {},
     "output_type": "execute_result"
    }
   ],
   "source": [
    "A = [{}, {}] # list of dicts\n",
    "B = [x for x in A]\n",
    "A[0][\"name\"] = \"bob\"\n",
    "B[0][\"name\"]"
   ]
  },
  {
   "cell_type": "code",
   "execution_count": 93,
   "metadata": {
    "collapsed": true
   },
   "outputs": [],
   "source": [
    "# 3.6 Python’s Technical Libraries\n",
    "# 3.6.1 Dataframes\n",
    "import pandas as pd\n",
    "# Making data frame from a dictionary\n",
    "# that maps column names to their values\n",
    "df = pd.DataFrame({\n",
    "\"name\": [\"Bob\", \"Alex\", \"Janice\"],\n",
    "\"age\": [60, 25, 33]\n",
    "})\n",
    "# Reading a DataFrame from a file\n",
    "other_df = pd.read_csv(\"myfile.csv\")\n",
    "# Making new columns from old ones\n",
    "# is really easy\n",
    "df[\"age_plus_one\"] = df[\"age\"] + 1\n",
    "df[\"age_times_two\"] = 2 * df[\"age\"]\n",
    "df[\"age_squared\"] = df[\"age\"] * df[\"age\"]\n",
    "df[\"over_30\"] = (df[\"age\"] > 30) # this col is bools\n",
    "# The columns have various built-in aggregate functions\n",
    "total_age = df[\"age\"].sum()\n",
    "median_age = df[\"age\"].quantile(0.5)\n",
    "# You can select several rows of the DataFrame\n",
    "# and make a new DataFrame out of them\n",
    "df_below50 = df[df[\"age\"] < 50]\n",
    "# Apply a custom function to a column\n",
    "df[\"age_squared\"] = df[\"age\"].apply(lambda x: x*x)"
   ]
  },
  {
   "cell_type": "code",
   "execution_count": 96,
   "metadata": {},
   "outputs": [
    {
     "name": "stdout",
     "output_type": "stream",
     "text": [
      "RangeIndex(start=0, stop=3, step=1)\n",
      "Index(['Bob', 'Alex', 'Jane'], dtype='object', name='name')\n",
      "60\n"
     ]
    },
    {
     "name": "stderr",
     "output_type": "stream",
     "text": [
      "/home/jayant/anaconda3/lib/python3.6/site-packages/ipykernel_launcher.py:11: DeprecationWarning: \n",
      ".ix is deprecated. Please use\n",
      ".loc for label based indexing or\n",
      ".iloc for positional indexing\n",
      "\n",
      "See the documentation here:\n",
      "http://pandas.pydata.org/pandas-docs/stable/indexing.html#ix-indexer-is-deprecated\n",
      "  # This is added back by InteractiveShellApp.init_path()\n"
     ]
    }
   ],
   "source": [
    "df = pd.DataFrame({\n",
    "\"name\": [\"Bob\", \"Alex\", \"Jane\"],\n",
    "\"age\": [60, 25, 33]\n",
    "})\n",
    "print (df.index) # prints 0‐2, the line numbers\n",
    "# Create a DataFrame containing the same data,\n",
    "# but where name is the index\n",
    "df_w_name_as_ind = df.set_index(\"name\")\n",
    "print (df_w_name_as_ind.index) # prints their names\n",
    "# Get the row for Bob\n",
    "bobs_row = df_w_name_as_ind.ix[\"Bob\"]\n",
    "print (bobs_row[\"age\"]) # prints 60"
   ]
  },
  {
   "cell_type": "code",
   "execution_count": 98,
   "metadata": {},
   "outputs": [
    {
     "data": {
      "text/plain": [
       "0    1\n",
       "1    2\n",
       "2    3\n",
       "dtype: int64"
      ]
     },
     "execution_count": 98,
     "metadata": {},
     "output_type": "execute_result"
    }
   ],
   "source": [
    "# 3.6.2 Series\n",
    "# import Pandas. I always alias it as pd\n",
    "import pandas as pd\n",
    "s = pd.Series([1,2,3]) # make Series from list\n",
    "# display the values in s\n",
    "# note index is to the far left\n",
    "s"
   ]
  },
  {
   "cell_type": "code",
   "execution_count": 99,
   "metadata": {},
   "outputs": [
    {
     "data": {
      "text/plain": [
       "0    3\n",
       "1    4\n",
       "2    5\n",
       "dtype: int64"
      ]
     },
     "execution_count": 99,
     "metadata": {},
     "output_type": "execute_result"
    }
   ],
   "source": [
    "s+2"
   ]
  },
  {
   "cell_type": "code",
   "execution_count": 101,
   "metadata": {},
   "outputs": [
    {
     "data": {
      "text/plain": [
       "pandas.core.series.Series"
      ]
     },
     "execution_count": 101,
     "metadata": {},
     "output_type": "execute_result"
    }
   ],
   "source": [
    "bobs_row = df_w_name_as_ind.ix[\"Bob\"]\n",
    "type(bobs_row)"
   ]
  },
  {
   "cell_type": "code",
   "execution_count": 102,
   "metadata": {},
   "outputs": [
    {
     "data": {
      "text/plain": [
       "age    60\n",
       "Name: Bob, dtype: int64"
      ]
     },
     "execution_count": 102,
     "metadata": {},
     "output_type": "execute_result"
    }
   ],
   "source": [
    "bobs_row"
   ]
  },
  {
   "cell_type": "code",
   "execution_count": 105,
   "metadata": {},
   "outputs": [
    {
     "name": "stdout",
     "output_type": "stream",
     "text": [
      "        age  height\n",
      "name               \n",
      "Tom      60     6.2\n",
      "Tyrell   25     4.0\n",
      "Claire   33     5.5\n"
     ]
    }
   ],
   "source": [
    "# 3.6.3 Joining and Grouping\n",
    "df_w_age = pd.DataFrame({\n",
    "\"name\": [\"Tom\", \"Tyrell\", \"Claire\"],\n",
    "\"age\": [60, 25, 33]\n",
    "})\n",
    "df_w_height = pd.DataFrame({\n",
    "\"name\": [\"Tom\", \"Tyrell\", \"Claire\"],\n",
    "\"height\": [6.2, 4.0, 5.5]\n",
    "})\n",
    "joined = df_w_age.set_index(\"name\").join(df_w_height.set_index(\"name\"))\n",
    "print(joined)"
   ]
  },
  {
   "cell_type": "code",
   "execution_count": 106,
   "metadata": {
    "collapsed": true
   },
   "outputs": [],
   "source": [
    "df = pd.DataFrame({\n",
    "\"name\": [\"Tom\", \"Tyrell\", \"Claire\"],\n",
    "\"age\": [60, 25, 33],\n",
    "\"height\": [6.2, 4.0, 5.5],\n",
    "    \"gender\": [\"M\", \"M\", \"F\"]\n",
    "})"
   ]
  },
  {
   "cell_type": "code",
   "execution_count": 107,
   "metadata": {},
   "outputs": [
    {
     "name": "stdout",
     "output_type": "stream",
     "text": [
      "         age  height\n",
      "gender              \n",
      "F       33.0     5.5\n",
      "M       42.5     5.1\n"
     ]
    }
   ],
   "source": [
    "# use built-in aggregates\n",
    "print (df.groupby(\"gender\").mean())"
   ]
  },
  {
   "cell_type": "code",
   "execution_count": 108,
   "metadata": {},
   "outputs": [
    {
     "name": "stdout",
     "output_type": "stream",
     "text": [
      "        mean_height    name  oldest\n",
      "gender                             \n",
      "F               5.5  Claire      33\n",
      "M               5.1  Tyrell      60\n"
     ]
    }
   ],
   "source": [
    "medians = df.groupby(\"gender\").quantile(0.5)\n",
    "# Use a custom aggregation function\n",
    "def agg(ddf):\n",
    "    return pd.Series({\n",
    "        \"name\": max(ddf[\"name\"]),\n",
    "        \"oldest\": max(ddf[\"age\"]),\n",
    "        \"mean_height\": ddf[\"height\"].mean()\n",
    "        })\n",
    "print (df.groupby(\"gender\").apply(agg))"
   ]
  }
 ],
 "metadata": {
  "kernelspec": {
   "display_name": "Python 3",
   "language": "python",
   "name": "python3"
  },
  "language_info": {
   "codemirror_mode": {
    "name": "ipython",
    "version": 3
   },
   "file_extension": ".py",
   "mimetype": "text/x-python",
   "name": "python",
   "nbconvert_exporter": "python",
   "pygments_lexer": "ipython3",
   "version": "3.6.3"
  }
 },
 "nbformat": 4,
 "nbformat_minor": 2
}
