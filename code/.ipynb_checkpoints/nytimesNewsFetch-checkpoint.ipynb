{
 "cells": [
  {
   "cell_type": "markdown",
   "metadata": {},
   "source": [
    "<span style=\"color:red;font-weight:bold\">Jayant Solanki</span>\n",
    "<hr/>\n",
    "## <span style=\"float:left\">Finding trending words from a news topic in NYTimes website.</span>\n",
    "### <span style=\"float:right\">Using nytimes articles API to fetch articles for a particular search topic</span>\n",
    "<hr/>"
   ]
  },
  {
   "cell_type": "code",
   "execution_count": 2,
   "metadata": {
    "collapsed": true
   },
   "outputs": [],
   "source": [
    "#Background: The nytimes api doesn't returns full article body, just the snippet of it each returned\n",
    "# so, I have to write the code to fetch the weburl for each article, then perfrom further requests to those url and \n",
    "#fetch the story body of each article\n",
    "import requests # for performing html request to nytimes API\n",
    "from datetime import datetime\n",
    "from time import sleep\n",
    "import lxml.html as html # for scrapping the content of the article URL of nytimes\n",
    "import json"
   ]
  },
  {
   "cell_type": "code",
   "execution_count": 3,
   "metadata": {
    "collapsed": true
   },
   "outputs": [],
   "source": [
    "# Each API keys can provide 10000 response hits\n",
    "topic = \"south+china+sea\"#topic to be looked for\n",
    "apikey = \"527c18ffc4e648cb936f582a0e264ff1\"\n",
    "fl = \"snippet,web_url\"#selective attributes of json response\n",
    "pageNo = \"0\"#initial page is 0, articles fetched using api are grouped in 10 per page starting 0 and upto page 100\n",
    "dateRange = [\"20180321\", \"20180322\", \"20180323\", \"20180324\", \"20180325\", \"20180326\", \"20180327\", \"20180328\"]# can be changed t any period"
   ]
  },
  {
   "cell_type": "code",
   "execution_count": 4,
   "metadata": {
    "collapsed": true
   },
   "outputs": [],
   "source": [
    "#this function parse the json response from nytimes and create new dictionary using two attributes only\n",
    "def parse_articles(articles):\n",
    "    '''\n",
    "    This function takes in a response to the NYT api and parses\n",
    "    the articles into a list of dictionaries\n",
    "    '''\n",
    "    news = []\n",
    "    fetch = articles['response']['docs']\n",
    "    for i in range(0,len(fetch)):\n",
    "        dic = {}\n",
    "#         print(fetch[i])\n",
    "        dic['web_url'] = fetch[i]['web_url']\n",
    "        if fetch[i]['snippet'] is not None:\n",
    "            dic['snippet'] = fetch[i]['snippet']\n",
    "#         dic['url'] = i['web_url']\n",
    "        news.append(dic)\n",
    "    return(news)"
   ]
  },
  {
   "cell_type": "code",
   "execution_count": 5,
   "metadata": {
    "collapsed": true
   },
   "outputs": [],
   "source": [
    "# this function perfrom request to nytimes api using the paramters passed and returns the parseed responsed to the caller function\n",
    "def get_articles(topic, begin_date, end_date, fl, apikey):\n",
    "    all_articles = []#stores all articles for a particular day\n",
    "    page = 0\n",
    "    while(page<100):\n",
    "        sleep(1)\n",
    "#     for page in range(0,100): #NYT limits pages to first 100 pages starting page 0, each page has 10 articles max\n",
    "        try:\n",
    "            \n",
    "            url = \"http://api.nytimes.com/svc/search/v2/articlesearch.json?q=\"+topic+\"&begin_date=\"+begin_date+\"&end_date=\"+end_date+\"&fl=\"+fl+\"&page=\"+str(page)+\"&api-key=\"+apikey\n",
    "            print(url)\n",
    "            requestArticles = requests.get(url)\n",
    "            data = requestArticles.json()\n",
    "            if len(data[\"response\"][\"docs\"])>0:\n",
    "                all_articles.append(parse_articles(data))\n",
    "#                 print(data)\n",
    "            else:# checks if further pages have no articles to show, if yes then break the loop and return the fetched articles\n",
    "                print(parse_articles(data))\n",
    "                break\n",
    "        except:\n",
    "            print(\"You called the api way to fast, Dude, trying again\")\n",
    "            print(data)\n",
    "#             page = page - 1\n",
    "            sleep(1)\n",
    "            continue#try again\n",
    "        print(\"Page: \"+str(page))\n",
    "#         break\n",
    "        page=page+1\n",
    "    return(all_articles)"
   ]
  },
  {
   "cell_type": "code",
   "execution_count": null,
   "metadata": {
    "scrolled": true
   },
   "outputs": [
    {
     "name": "stdout",
     "output_type": "stream",
     "text": [
      "Fetching articles for Data period: 03-21-2018 - 03-22-2018\n",
      "http://api.nytimes.com/svc/search/v2/articlesearch.json?q=south+china+sea&begin_date=20180321&end_date=20180322&fl=snippet,web_url&page=0&api-key=527c18ffc4e648cb936f582a0e264ff1\n",
      "Page: 0\n",
      "http://api.nytimes.com/svc/search/v2/articlesearch.json?q=south+china+sea&begin_date=20180321&end_date=20180322&fl=snippet,web_url&page=1&api-key=527c18ffc4e648cb936f582a0e264ff1\n",
      "Page: 1\n",
      "http://api.nytimes.com/svc/search/v2/articlesearch.json?q=south+china+sea&begin_date=20180321&end_date=20180322&fl=snippet,web_url&page=2&api-key=527c18ffc4e648cb936f582a0e264ff1\n",
      "Page: 2\n",
      "http://api.nytimes.com/svc/search/v2/articlesearch.json?q=south+china+sea&begin_date=20180321&end_date=20180322&fl=snippet,web_url&page=3&api-key=527c18ffc4e648cb936f582a0e264ff1\n",
      "[]\n",
      "Fetching articles for Data period: 03-22-2018 - 03-23-2018\n",
      "http://api.nytimes.com/svc/search/v2/articlesearch.json?q=south+china+sea&begin_date=20180322&end_date=20180323&fl=snippet,web_url&page=0&api-key=527c18ffc4e648cb936f582a0e264ff1\n",
      "Page: 0\n",
      "http://api.nytimes.com/svc/search/v2/articlesearch.json?q=south+china+sea&begin_date=20180322&end_date=20180323&fl=snippet,web_url&page=1&api-key=527c18ffc4e648cb936f582a0e264ff1\n",
      "Page: 1\n",
      "http://api.nytimes.com/svc/search/v2/articlesearch.json?q=south+china+sea&begin_date=20180322&end_date=20180323&fl=snippet,web_url&page=2&api-key=527c18ffc4e648cb936f582a0e264ff1\n",
      "Page: 2\n",
      "http://api.nytimes.com/svc/search/v2/articlesearch.json?q=south+china+sea&begin_date=20180322&end_date=20180323&fl=snippet,web_url&page=3&api-key=527c18ffc4e648cb936f582a0e264ff1\n",
      "Page: 3\n",
      "http://api.nytimes.com/svc/search/v2/articlesearch.json?q=south+china+sea&begin_date=20180322&end_date=20180323&fl=snippet,web_url&page=4&api-key=527c18ffc4e648cb936f582a0e264ff1\n",
      "Page: 4\n",
      "http://api.nytimes.com/svc/search/v2/articlesearch.json?q=south+china+sea&begin_date=20180322&end_date=20180323&fl=snippet,web_url&page=5&api-key=527c18ffc4e648cb936f582a0e264ff1\n",
      "[]\n",
      "Fetching articles for Data period: 03-23-2018 - 03-24-2018\n",
      "http://api.nytimes.com/svc/search/v2/articlesearch.json?q=south+china+sea&begin_date=20180323&end_date=20180324&fl=snippet,web_url&page=0&api-key=527c18ffc4e648cb936f582a0e264ff1\n",
      "Page: 0\n",
      "http://api.nytimes.com/svc/search/v2/articlesearch.json?q=south+china+sea&begin_date=20180323&end_date=20180324&fl=snippet,web_url&page=1&api-key=527c18ffc4e648cb936f582a0e264ff1\n",
      "Page: 1\n",
      "http://api.nytimes.com/svc/search/v2/articlesearch.json?q=south+china+sea&begin_date=20180323&end_date=20180324&fl=snippet,web_url&page=2&api-key=527c18ffc4e648cb936f582a0e264ff1\n",
      "Page: 2\n",
      "http://api.nytimes.com/svc/search/v2/articlesearch.json?q=south+china+sea&begin_date=20180323&end_date=20180324&fl=snippet,web_url&page=3&api-key=527c18ffc4e648cb936f582a0e264ff1\n",
      "Page: 3\n",
      "http://api.nytimes.com/svc/search/v2/articlesearch.json?q=south+china+sea&begin_date=20180323&end_date=20180324&fl=snippet,web_url&page=4&api-key=527c18ffc4e648cb936f582a0e264ff1\n",
      "Page: 4\n",
      "http://api.nytimes.com/svc/search/v2/articlesearch.json?q=south+china+sea&begin_date=20180323&end_date=20180324&fl=snippet,web_url&page=5&api-key=527c18ffc4e648cb936f582a0e264ff1\n",
      "Page: 5\n",
      "http://api.nytimes.com/svc/search/v2/articlesearch.json?q=south+china+sea&begin_date=20180323&end_date=20180324&fl=snippet,web_url&page=6&api-key=527c18ffc4e648cb936f582a0e264ff1\n",
      "[]\n",
      "Fetching articles for Data period: 03-24-2018 - 03-25-2018\n",
      "http://api.nytimes.com/svc/search/v2/articlesearch.json?q=south+china+sea&begin_date=20180324&end_date=20180325&fl=snippet,web_url&page=0&api-key=527c18ffc4e648cb936f582a0e264ff1\n",
      "Page: 0\n",
      "http://api.nytimes.com/svc/search/v2/articlesearch.json?q=south+china+sea&begin_date=20180324&end_date=20180325&fl=snippet,web_url&page=1&api-key=527c18ffc4e648cb936f582a0e264ff1\n",
      "Page: 1\n",
      "http://api.nytimes.com/svc/search/v2/articlesearch.json?q=south+china+sea&begin_date=20180324&end_date=20180325&fl=snippet,web_url&page=2&api-key=527c18ffc4e648cb936f582a0e264ff1\n",
      "[]\n",
      "Fetching articles for Data period: 03-25-2018 - 03-26-2018\n",
      "http://api.nytimes.com/svc/search/v2/articlesearch.json?q=south+china+sea&begin_date=20180325&end_date=20180326&fl=snippet,web_url&page=0&api-key=527c18ffc4e648cb936f582a0e264ff1\n",
      "Page: 0\n",
      "http://api.nytimes.com/svc/search/v2/articlesearch.json?q=south+china+sea&begin_date=20180325&end_date=20180326&fl=snippet,web_url&page=1&api-key=527c18ffc4e648cb936f582a0e264ff1\n",
      "Page: 1\n",
      "http://api.nytimes.com/svc/search/v2/articlesearch.json?q=south+china+sea&begin_date=20180325&end_date=20180326&fl=snippet,web_url&page=2&api-key=527c18ffc4e648cb936f582a0e264ff1\n",
      "[]\n",
      "Fetching articles for Data period: 03-26-2018 - 03-27-2018\n",
      "http://api.nytimes.com/svc/search/v2/articlesearch.json?q=south+china+sea&begin_date=20180326&end_date=20180327&fl=snippet,web_url&page=0&api-key=527c18ffc4e648cb936f582a0e264ff1\n",
      "Page: 0\n",
      "http://api.nytimes.com/svc/search/v2/articlesearch.json?q=south+china+sea&begin_date=20180326&end_date=20180327&fl=snippet,web_url&page=1&api-key=527c18ffc4e648cb936f582a0e264ff1\n",
      "Page: 1\n",
      "http://api.nytimes.com/svc/search/v2/articlesearch.json?q=south+china+sea&begin_date=20180326&end_date=20180327&fl=snippet,web_url&page=2&api-key=527c18ffc4e648cb936f582a0e264ff1\n",
      "Page: 2\n",
      "http://api.nytimes.com/svc/search/v2/articlesearch.json?q=south+china+sea&begin_date=20180326&end_date=20180327&fl=snippet,web_url&page=3&api-key=527c18ffc4e648cb936f582a0e264ff1\n",
      "Page: 3\n",
      "http://api.nytimes.com/svc/search/v2/articlesearch.json?q=south+china+sea&begin_date=20180326&end_date=20180327&fl=snippet,web_url&page=4&api-key=527c18ffc4e648cb936f582a0e264ff1\n",
      "[]\n"
     ]
    }
   ],
   "source": [
    "#caller function\n",
    "processArticles = []\n",
    "for i in range(0,7):\n",
    "    datetimeobject = datetime.strptime(dateRange[i],'%Y%m%d')\n",
    "    beginDate = datetimeobject.strftime('%m-%d-%Y')\n",
    "    datetimeobject = datetime.strptime(dateRange[i+1],'%Y%m%d')\n",
    "    endDate = datetimeobject.strftime('%m-%d-%Y')\n",
    "    print(\"Fetching articles for Data period: \" + beginDate + \" - \"+ endDate)\n",
    "    processArticles = get_articles(topic, dateRange[i], dateRange[i+1],fl, apikey)\n",
    "    if(len(processArticles)>0):\n",
    "#         try:\n",
    "#             dataToWrite = processArticles\n",
    "# #             print(dataToWrite)\n",
    "#         except:\n",
    "#             print(len(processArticles))\n",
    "#             print(processArticles)\n",
    "#             print(processArticles[0])\n",
    "#             break\n",
    "        with open(\"textcorpus/\"+topic+dateRange[i]+\".txt\", 'w') as outfile:#used for storing snippets\n",
    "            for item in processArticles:\n",
    "                for articles in item:\n",
    "#                     print(articles)\n",
    "                    outfile.write(articles[\"snippet\"])\n",
    "                    outfile.write(\"\\n\")\n",
    "        with open(\"textcorpus/\"+topic+dateRange[i]+\"-full.txt\", 'w') as outfile:#used for storing full articles\n",
    "            for item in processArticles:\n",
    "                for articles in item:\n",
    "                    fullpage = requests.get(articles[\"web_url\"])\n",
    "                    htmlbody = html.fromstring(requests.get(articles[\"web_url\"]).content)\n",
    "                    output = \"\".join(htmlbody.xpath('//p[contains(@class,\"story-body-text\")]//text()'))#scrapper\n",
    "#                     print(output+\"\\n\\n\")\n",
    "#                     output = output.decode('utf8').encode('latin1').decode('utf8')\n",
    "                    output = str(output.encode(\"ascii\", \"ignore\"))#since the body has lots of escape characters, I have to convert\n",
    "    # utf-8 response into ascii using ignore flag to bypass those escape characters\n",
    "                    outfile.write(output[2:-1])\n",
    "                    outfile.write(\"\\n\")\n",
    "    else:\n",
    "        print(\"Insufficient data for date: \"+beginDate+\" to save\")\n",
    "#     break\n",
    "# print(processArticles[0][0:-1])"
   ]
  },
  {
   "cell_type": "code",
   "execution_count": null,
   "metadata": {
    "collapsed": true
   },
   "outputs": [],
   "source": []
  },
  {
   "cell_type": "code",
   "execution_count": null,
   "metadata": {
    "collapsed": true
   },
   "outputs": [],
   "source": [
    "# /usr/local/hadoop/bin/hadoop jar /usr/local/hadoop/share/hadoop/tools/lib/hadoop-streaming-2.8.3.jar -input /user/jayant/input/ -output /user/jayant/output_new2 -mapper /home/jayant/wordcount_mapper.py -reducer /home/jayant/wordcount_reducer.py -numReduceTasks 1"
   ]
  },
  {
   "cell_type": "code",
   "execution_count": null,
   "metadata": {
    "collapsed": true
   },
   "outputs": [],
   "source": []
  },
  {
   "cell_type": "code",
   "execution_count": null,
   "metadata": {
    "collapsed": true
   },
   "outputs": [],
   "source": []
  }
 ],
 "metadata": {
  "kernelspec": {
   "display_name": "Python 3",
   "language": "python",
   "name": "python3"
  },
  "language_info": {
   "codemirror_mode": {
    "name": "ipython",
    "version": 3
   },
   "file_extension": ".py",
   "mimetype": "text/x-python",
   "name": "python",
   "nbconvert_exporter": "python",
   "pygments_lexer": "ipython3",
   "version": "3.6.3"
  }
 },
 "nbformat": 4,
 "nbformat_minor": 2
}
